{
 "cells": [
  {
   "cell_type": "code",
   "execution_count": 17,
   "id": "2a6d6bd2-1811-4967-926c-7364cfabbff0",
   "metadata": {},
   "outputs": [
    {
     "name": "stdin",
     "output_type": "stream",
     "text": [
      "type anything Nothing\n"
     ]
    },
    {
     "name": "stdout",
     "output_type": "stream",
     "text": [
      "bread\n"
     ]
    }
   ],
   "source": [
    "#CONDITIONAL STATEMENT\n",
    "\n",
    "#s = 'bread'\n",
    "\n",
    "s = input('type anything')\n",
    "if s == 'beans':\n",
    "    print('not bread')\n",
    "elif s =='yam':\n",
    "    print('not bread')\n",
    "else:\n",
    "    print('bread')"
   ]
  },
  {
   "cell_type": "code",
   "execution_count": 19,
   "id": "740b6a09-c110-40de-bec1-00acbd24c685",
   "metadata": {},
   "outputs": [
    {
     "name": "stdin",
     "output_type": "stream",
     "text": [
      "input your score 65\n"
     ]
    },
    {
     "name": "stdout",
     "output_type": "stream",
     "text": [
      "B\n"
     ]
    }
   ],
   "source": [
    "score = int(input('input your score'))\n",
    "\n",
    "if score >= 70:\n",
    "    print('A')\n",
    "elif score >= 60:\n",
    "    print('B')\n",
    "elif score >=50:\n",
    "    print('C')\n",
    "elif score >= 45:\n",
    "    print('D')\n",
    "elif score>= 40:\n",
    "    print('E')\n",
    "else:\n",
    "    print('F')"
   ]
  },
  {
   "cell_type": "code",
   "execution_count": 21,
   "id": "41bf012d-324c-462b-b607-7932c5b2fa8a",
   "metadata": {},
   "outputs": [],
   "source": [
    "#LOOPS(For and While)\n",
    "\n",
    "\n",
    "Sal =[450,670,255,112,597]"
   ]
  },
  {
   "cell_type": "code",
   "execution_count": 29,
   "id": "da6a2f8d-a872-4358-bc23-720076faa2e7",
   "metadata": {},
   "outputs": [
    {
     "ename": "NameError",
     "evalue": "name 'sal' is not defined",
     "output_type": "error",
     "traceback": [
      "\u001b[0;31m---------------------------------------------------------------------------\u001b[0m",
      "\u001b[0;31mNameError\u001b[0m                                 Traceback (most recent call last)",
      "Cell \u001b[0;32mIn[29], line 1\u001b[0m\n\u001b[0;32m----> 1\u001b[0m \u001b[38;5;28;01mfor\u001b[39;00m i \u001b[38;5;129;01min\u001b[39;00m sal:\n\u001b[1;32m      2\u001b[0m     a \u001b[38;5;241m=\u001b[39m i \u001b[38;5;241m*\u001b[39m \u001b[38;5;241m1.1\u001b[39m\n\u001b[1;32m      3\u001b[0m     \u001b[38;5;28mprint\u001b[39m(a)\n",
      "\u001b[0;31mNameError\u001b[0m: name 'sal' is not defined"
     ]
    }
   ],
   "source": [
    "for i in sal:\n",
    "    a = i * 1.1\n",
    "    print(a)"
   ]
  }
 ],
 "metadata": {
  "kernelspec": {
   "display_name": "anaconda-panel-2023.05-py310",
   "language": "python",
   "name": "conda-env-anaconda-panel-2023.05-py310-py"
  },
  "language_info": {
   "codemirror_mode": {
    "name": "ipython",
    "version": 3
   },
   "file_extension": ".py",
   "mimetype": "text/x-python",
   "name": "python",
   "nbconvert_exporter": "python",
   "pygments_lexer": "ipython3",
   "version": "3.11.5"
  }
 },
 "nbformat": 4,
 "nbformat_minor": 5
}
