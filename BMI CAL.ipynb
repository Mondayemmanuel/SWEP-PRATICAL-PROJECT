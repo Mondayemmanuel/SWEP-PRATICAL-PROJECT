{
 "cells": [
  {
   "cell_type": "code",
   "execution_count": 1,
   "id": "1dcc2696-8c31-4ca2-8580-52751bf817f0",
   "metadata": {},
   "outputs": [
    {
     "name": "stdin",
     "output_type": "stream",
     "text": [
      "what is your weight in kilogram 20\n",
      "what is your height in metres 5\n"
     ]
    },
    {
     "name": "stdout",
     "output_type": "stream",
     "text": [
      "You are under weight\n"
     ]
    },
    {
     "data": {
      "text/plain": [
       "0.8"
      ]
     },
     "execution_count": 1,
     "metadata": {},
     "output_type": "execute_result"
    }
   ],
   "source": [
    "# BMI CALCULATOR USING FUNCTION,COLLECTING THE DATA AND ALSO OUTPUTING THE CALCULATED VALUE\n",
    "\n",
    "def bmi_cal(w, h):\n",
    "    BMI =  round(w/(h**2),2)\n",
    "\n",
    "    if BMI <= 18.5:\n",
    "        print(\"You are under weight\")\n",
    "    elif BMI > 18.5 and BMI <= 25:\n",
    "        print(\"You are of normal weight\")\n",
    "    elif BMI > 25 and BMI <= 30:\n",
    "        print(\"You are overweight\")\n",
    "    else:\n",
    "        print(\"You are obese\")\n",
    "    return BMI\n",
    "        \n",
    "weight = float(input(\"what is your weight in kilogram\"))\n",
    "height = float(input(\"what is your height in metres\"))\n",
    "bmi_cal(weight,height)\n"
   ]
  },
  {
   "cell_type": "code",
   "execution_count": 3,
   "id": "4ba67340-486a-4d2b-a4fe-1c63080c46dd",
   "metadata": {},
   "outputs": [
    {
     "name": "stdin",
     "output_type": "stream",
     "text": [
      "what is your weight in kilogram 30\n",
      "what is your height in metres 10\n"
     ]
    },
    {
     "name": "stdout",
     "output_type": "stream",
     "text": [
      "You are under weight\n",
      "0.3\n"
     ]
    }
   ],
   "source": [
    "weight = float(input(\"what is your weight in kilogram\"))\n",
    "height = float(input(\"what is your height in metres\"))\n",
    "\n",
    "bmi = round(weight/(height**2),2)\n",
    "\n",
    "if bmi <= 18.5:\n",
    "    print(\"You are under weight\")\n",
    "elif bmi > 18.5 and bmi <= 25:\n",
    "    print(\"You are of normal weight\")\n",
    "elif bmi > 25 and bmi <= 30:\n",
    "    print(\"You are overweight\")\n",
    "else:\n",
    "    print(\"You are obese\")\n",
    "print(bmi)"
   ]
  },
  {
   "cell_type": "code",
   "execution_count": null,
   "id": "875acde1-bcc7-422b-a0b4-c2b16b740696",
   "metadata": {},
   "outputs": [],
   "source": []
  }
 ],
 "metadata": {
  "kernelspec": {
   "display_name": "anaconda-panel-2023.05-py310",
   "language": "python",
   "name": "conda-env-anaconda-panel-2023.05-py310-py"
  },
  "language_info": {
   "codemirror_mode": {
    "name": "ipython",
    "version": 3
   },
   "file_extension": ".py",
   "mimetype": "text/x-python",
   "name": "python",
   "nbconvert_exporter": "python",
   "pygments_lexer": "ipython3",
   "version": "3.11.5"
  }
 },
 "nbformat": 4,
 "nbformat_minor": 5
}
